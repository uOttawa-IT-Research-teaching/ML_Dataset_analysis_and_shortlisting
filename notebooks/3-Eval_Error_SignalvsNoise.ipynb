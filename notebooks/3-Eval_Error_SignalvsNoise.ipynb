{
 "cells": [
  {
   "cell_type": "markdown",
   "id": "1af1f8a1-ea7a-48bc-b609-4434e82a42c9",
   "metadata": {},
   "source": [
    "# Dataset analysis, model shortlisting, and model determination: Evaluating Error: Signal vs Noise\n",
    "A model is a clear-edged sketch that highlights patterns while omitting noise. Multiple stories can emerge from the same dataset.  \n",
    "When modeling, we assume data contains two layers: *signal* (the true, repeatable pattern we want to capture) and *noise* (random distractions). The signal is what empowers models to generalize beyond the original data.\n",
    "\n",
    "**Notebook 3 of 5**\n",
    "\n",
    "This tutorial covers the fundamental concepts of modeling, starting with the idea that a model is a simplified representation of separating meaningful patterns (signal) from random fluctuations (noise). It explores the core challenges of modeling, including bias (oversimplifying and missing the signal) and variance (overcomplicating and fitting noise), along with strategies to address them, such as testing diverse models and using training/testing splits.\n",
    "\n",
    "* Notebook 1: The model decision-making process\n",
    "* Notebook 2: Splitting the data\n",
    "* Notebook 3: Evaluating Error: Signal vs Noise\n",
    "* Notebook 4: The Problem Domain: Chosing the Models\n",
    "* Notebook 5: Model shortlisting\n"
   ]
  },
  {
   "attachments": {},
   "cell_type": "markdown",
   "id": "2bb22021-6685-4c3c-8498-e4057240f559",
   "metadata": {},
   "source": [
    "# Learning objectives\n",
    "Average time to complete 30min\n",
    "\n",
    "By the end of this tutorial you should be able to:\n",
    "* Learn that a model is a simplified representation of data, which consists of *signal* (repeatable patterns) and *noise* (irrelevant variations).\n",
    "* Recognize how to identify and isolate meaningful patterns (*signal*) while minimizing the impact of random fluctuations (*noise*) in data. "
   ]
  },
  {
   "cell_type": "markdown",
   "id": "c6c27ba1-e264-4142-965b-1b274f176d2b",
   "metadata": {},
   "source": [
    "## What you will need for this tutorial\n",
    "\n",
    "* See the [introduction document](https://uottawa-it-research-teaching.github.io/machinelearning/) for general requirements and how Jupyter notebooks work.\n",
    "* We'll need Pandas for convenient data handling. It's a very powerful Python package that can read CSV and Excel files. It also has very good data manipulation capabilities which come in use for data cleaning.\n",
    "* We will use scikit learn as our machine learning package.\n",
    "* numpy \n",
    "* seaborn \n",
    "* matplotlib\n",
    "* requests\n",
    "* ipywidgets\n",
    "* The data files that should have come with this notebook."
   ]
  },
  {
   "cell_type": "markdown",
   "id": "6534f08f-039b-4e88-af71-670ffc4ddcc5",
   "metadata": {},
   "source": [
    "## RDM best practices\n",
    "\n",
    "Good data handling for machine learning begins with good Research Data Managment (RDM). The quality of your source data will impact the outcome of your results, just like the reproducibility of your results will depend on the quality of your data sources, in addition to how you organize the data so that other people (and machines!) can understand and reuse it.\n",
    "\n",
    "We also need to respect a few research data management best practices along the way, these best practices are recommended by the Digital Research Alliance of Canada. In the first tutorial we encouraged you to resepct two RDM best practices:\n",
    "\n",
    "* SAVE YOUR RAW DATA IN ORIGINAL FORMAT<br>\n",
    "* BACKUP YOUR DATA (3-2-1 rule)<br>\n",
    "\n",
    "These practices should apply in this tutorial as well, but we will also look at best practices of data description, documentation and file naming that will streamline your data processing and project management. \n",
    "\n",
    "DESCRIBE YOUR DATA\n",
    "\n",
    "* Machine Friendly: Describe your dataset with a metadata standard for discovery.\n",
    "* Human Friendly: Describe your variables, so your colleagues will understand what you meant. Data without good metadata is useless. Give your variables clear names.\n",
    "* Do not leave cells blank -use numeric values clearly out of range to define missing (e.g. '99999') or not applicable (e.g. '88888') data anddescribe these in your data dictionary.\n",
    "* Convert your data to open, non-proprietary formats \n",
    "* Name your files well with basic meta-data in the file names"
   ]
  },
  {
   "cell_type": "markdown",
   "id": "74160ba8-69cf-426f-adfa-51f843e46f53",
   "metadata": {},
   "source": [
    "# <b>Instructor section"
   ]
  },
  {
   "cell_type": "code",
   "execution_count": 2,
   "id": "926b116b-7433-4f10-a98f-55a4f38ff4dd",
   "metadata": {},
   "outputs": [
    {
     "data": {
      "text/plain": [
       "True"
      ]
     },
     "execution_count": 2,
     "metadata": {},
     "output_type": "execute_result"
    }
   ],
   "source": [
    "# https://mermaid.live\n",
    "# https://mermaid.js.org/syntax/flowchart.html#interaction\n",
    "\n",
    "import webbrowser\n",
    "from textwrap import dedent\n",
    "\t \n",
    "html_content = dedent('''\n",
    "\t<!DOCTYPE html>\n",
    "\t<html>\n",
    "     <style>\n",
    "     .mermaid svg {\n",
    "    display: block;\n",
    "    width: 100%;\n",
    "    height: 100%;\n",
    "    margin: 0%;\n",
    "    padding: 0;\n",
    "    }\n",
    "     </style>\n",
    "     <head>\n",
    "        <script src=\"https://d3js.org/d3.v6.min.js\"></script>\n",
    "        <script src=\"https://unpkg.com/mermaid@11.4.1/dist/mermaid.min.js\"></script>\n",
    "      </head>\n",
    "  <body>\n",
    "    <div class=\"mermaid\" style=\"max-height: 350px;max-width: 1500px;\">\n",
    "---\n",
    "title: 'Flow 3 - Evaluating Error: Signal vs Noise'\n",
    "---\n",
    "    graph TD;\n",
    "    A[Model<br>'A simplified story about data'] --> B(Data<br>'Composed of Signal + Noise');\n",
    "    B --> C[Signal<br>'Real, repeatable pattern<br>Goal to capture and generalize'];\n",
    "    B --> D[Noise<br>'Imperfections, extraneous variation<br>Obscures the signal'] ;\n",
    "    A --> E[Goal of Modeling<br>'Describe signal, ignore noise'];\n",
    "    E --> F[Challenges];\n",
    "    F --> G[Bias<br>'Failure to capture all signal<br>Underfitting'];\n",
    "    G --> H('Example: Linear model<br>High bias, misses pattern');\n",
    "    F --> I[Variance<br>'Capturing noise instead of signal<br>Overfitting'];\n",
    "    I --> J('Example: Connect-the-dots<br>High variance, fits noise');\n",
    "    E --> K[Solutions];\n",
    "    K --> L[Against Bias<br>'Try various model types<br>Rich pool of candidates'];\n",
    "    K --> M[Against Variance<br>'Test generalization<br>Train vs. Test data split'];\n",
    "    M --> N('Good model: Accurate predictions<br>Low variance, captures signal');\n",
    "    M --> O('Overfitted model: Poor predictions<br>High variance, captures noise');\n",
    "    P[Next Step<br>'Choosing the right error function'] --> E;\n",
    "    </div>\n",
    "\n",
    "    <script type=\"module\">\n",
    "      window.addEventListener('load', function () {\n",
    "      var svgs = d3.selectAll(\".mermaid svg\");\n",
    "      svgs.each(function() {\n",
    "    var svg = d3.select(this);\n",
    "    svg.html(\"<g>\" + svg.html() + \"</g>\");\n",
    "    var inner = svg.select(\"g\");\n",
    "    var zoom = d3.zoom().on(\"zoom\", function(event) {\n",
    "      inner.attr(\"transform\", event.transform);\n",
    "    });\n",
    "    svg.call(zoom);\n",
    "  });\n",
    "});\n",
    " \n",
    "window.callback = function () {\n",
    "      alert('A callback was triggered');\n",
    "    };\n",
    "    const config = {\n",
    "      startOnLoad: true,\n",
    "      flowchart: { useMaxWidth: true, htmlLabels: true, curve: 'cardinal' },\n",
    "      securityLevel: 'loose',\n",
    "    };\n",
    "    mermaid.initialize(config);\n",
    "\n",
    "\n",
    "    </script>\n",
    "    \n",
    "  </body>\n",
    "</html>\n",
    "\t''')\n",
    "\t \n",
    "# Save to file and open in browser\n",
    "with open('mermaid_flowchart3.html', 'w') as f:\n",
    "\tf.write(html_content)\n",
    "\t \n",
    "webbrowser.open('mermaid_flowchart3.html')\n"
   ]
  },
  {
   "cell_type": "markdown",
   "id": "2ad4b7a5-ee5f-4583-9b96-d7e062abdf12",
   "metadata": {},
   "source": [
    "# <b>Participant section"
   ]
  },
  {
   "cell_type": "markdown",
   "id": "8ab4ac70-7028-4135-b257-d85bf3b4bd1c",
   "metadata": {},
   "source": [
    "```mermaid\n",
    "graph TD;\n",
    "    A[Model<br>'A simplified story about data'] --> B(Data<br>'Composed of Signal + Noise');\n",
    "    B --> C[Signal<br>'Real, repeatable pattern<br>Goal to capture and generalize'];\n",
    "    B --> D[Noise<br>'Imperfections, extraneous variation<br>Obscures the signal'] ;\n",
    "    A --> E[Goal of Modeling<br>'Describe signal, ignore noise'];\n",
    "    E --> F[Challenges];\n",
    "    F --> G[Bias<br>'Failure to capture all signal<br>Underfitting'];\n",
    "    G --> H('Example: Linear model<br>High bias, misses pattern');\n",
    "    F --> I[Variance<br>'Capturing noise instead of signal<br>Overfitting'];\n",
    "    I --> J('Example: Connect-the-dots<br>High variance, fits noise');\n",
    "    E --> K[Solutions];\n",
    "    K --> L[Against Bias<br>'Try various model types<br>Rich pool of candidates'];\n",
    "    K --> M[Against Variance<br>'Test generalization<br>Train vs. Test data split'];\n",
    "    M --> N('Good model: Accurate predictions<br>Low variance, captures signal');\n",
    "    M --> O('Overfitted model: Poor predictions<br>High variance, captures noise');\n",
    "```"
   ]
  },
  {
   "cell_type": "markdown",
   "id": "93dde3b1-16a0-4d61-8c5e-b69113065fd6",
   "metadata": {},
   "source": [
    "### 1. Central Concept:"
   ]
  },
  {
   "cell_type": "markdown",
   "id": "948e1cd7-39a3-4b2a-9878-ac264593cd99",
   "metadata": {},
   "source": [
    "```mermaid\n",
    "graph TD;\n",
    "    A[Model<br>'A simplified story about data'] --> B(Data<br>'Composed of Signal + Noise');\n",
    "```"
   ]
  },
  {
   "cell_type": "markdown",
   "id": "e19241b5-6419-4fdf-a4f6-e7289eabb17d",
   "metadata": {},
   "source": [
    "The \"Model\" is the starting point, defined as a simplified story about \"Data,\" which is split into \"Signal\" and \"Noise.\"\n"
   ]
  },
  {
   "cell_type": "markdown",
   "id": "67d81a60-d485-406f-9b9e-3281fe1e5f97",
   "metadata": {},
   "source": [
    "### 2. Signal and Noise:"
   ]
  },
  {
   "cell_type": "markdown",
   "id": "f25e8ecb-1053-4c1d-b627-12423c4c500d",
   "metadata": {},
   "source": [
    "```mermaid\n",
    "graph TD;\n",
    "B(Data<br>'Composed of Signal + Noise');\n",
    "    B --> C[Signal<br>'Real, repeatable pattern<br>Goal to capture and generalize'];\n",
    "    B --> D[Noise<br>'Imperfections, extraneous variation<br>Obscures the signal'] ;\n",
    "```"
   ]
  },
  {
   "attachments": {},
   "cell_type": "markdown",
   "id": "c60bd3ab-16a1-4cf6-9781-8ce9acc29f49",
   "metadata": {},
   "source": [
    "• \"Signal\" is the repeatable pattern we aim to capture for generalization.<br>\n",
    "• \"Noise\" represents imperfections and variations that obscure the signal."
   ]
  },
  {
   "cell_type": "markdown",
   "id": "81e87e48-c77a-4e02-b728-c699a4c4097d",
   "metadata": {},
   "source": [
    "### 3. Goal of Modeling:"
   ]
  },
  {
   "cell_type": "markdown",
   "id": "8f005cf3-cc75-4f9c-93b6-26ece89b4f9f",
   "metadata": {},
   "source": [
    "```mermaid\n",
    "graph TD;\n",
    "E[Goal of Modeling<br>'Describe signal, ignore noise'];\n",
    "    E --> F[Challenges];\n",
    "    E --> K[Solutions];\n",
    "```"
   ]
  },
  {
   "attachments": {},
   "cell_type": "markdown",
   "id": "531b0646-3b3a-4bf4-a044-10f714ef0276",
   "metadata": {},
   "source": [
    "The objective is to describe the signal while ignoring noise, leading to the challenges and solutions.\n"
   ]
  },
  {
   "cell_type": "markdown",
   "id": "185eae9f-729a-4f4a-8c8c-4604387c083e",
   "metadata": {},
   "source": [
    "### 4. Challenges:"
   ]
  },
  {
   "cell_type": "markdown",
   "id": "2fb5e02f-2ddf-473c-8a25-07ff5a85e718",
   "metadata": {},
   "source": [
    "```mermaid\n",
    "graph TD;\n",
    "F[Challenges];\n",
    "    F --> G[Bias<br>'Failure to capture all signal<br>Underfitting'];\n",
    "    G --> H('Example: Linear model<br>High bias, misses pattern');\n",
    "    F --> I[Variance<br>'Capturing noise instead of signal<br>Overfitting'];\n",
    "    I --> J('Example: Connect-the-dots<br>High variance, fits noise');\n",
    "```"
   ]
  },
  {
   "attachments": {},
   "cell_type": "markdown",
   "id": "471f0291-51ba-420a-96c4-76e91869144c",
   "metadata": {},
   "source": [
    "• \"Bias\" (underfitting) occurs when the model misses the signal, exemplified by a linear model with high bias.<br>\n",
    "• \"Variance\" (overfitting) occurs when the model captures noise, exemplified by a connect-the-dots model.\n"
   ]
  },
  {
   "cell_type": "markdown",
   "id": "8c5c2db6-f3a4-467b-9c35-3ecfd8870c89",
   "metadata": {},
   "source": [
    "### 4. Solutions:"
   ]
  },
  {
   "cell_type": "markdown",
   "id": "7fc11a1e-df94-46b5-a40f-455a81bce182",
   "metadata": {},
   "source": [
    "```mermaid\n",
    "graph TD;\n",
    "K[Solutions];\n",
    "    K --> L[Against Bias<br>'Try various model types<br>Rich pool of candidates'];\n",
    "    K --> M[Against Variance<br>'Test generalization<br>Train vs. Test data split'];\n",
    "    M --> N('Good model: Accurate predictions<br>Low variance, captures signal');\n",
    "    M --> O('Overfitted model: Poor predictions<br>High variance, captures noise');\n",
    "```"
   ]
  },
  {
   "attachments": {},
   "cell_type": "markdown",
   "id": "a49684ef-df0d-4af2-a1ed-3ba8cbfd2d3c",
   "metadata": {},
   "source": [
    "• To combat \"Bias,\" use a variety of model types to increase the chance of capturing the signal.<br>\n",
    "• To combat \"Variance,\" test generalization by splitting data into training and testing sets, with outcomes indicating whether the model is good (low variance) or overfitted (high variance).<br>\n",
    "Example of this process can be found in our workshop on Transfer Learning<br>\n",
    "<b> [Transfer Learning - CNN Image Augmentation - High variance, captures noise](https://notebooks.githubusercontent.com/view/ipynb?&commit=556370e4ca1775a3910eff763cb27adb113b9f05&device=unknown_device&docs_host=https%3A%2F%2Fdocs.github.com&enc_url=68747470733a2f2f7261772e67697468756275736572636f6e74656e742e636f6d2f754f74746177612d49542d52657365617263682d7465616368696e672f5472616e736665724c6561726e696e675f434e4e2f353536333730653463613137373561333931306566663736336362323761646231313362396630352f6e6f7465626f6f6b732f322532302d2532307472616e736665724c6561726e696e67434e4e2e6970796e62&logged_in=false&nwo=uOttawa-IT-Research-teaching%2FTransferLearning_CNN&path=notebooks%2F2+-+transferLearningCNN.ipynb&platform=windows&repository_id=790769950&repository_type=Repository&version=128#CNN-Model-with-Image-Augmentation) <br>\n",
    "[Transfer Learning - VGG-16 Pre-trained model - Low variance, captures signal](https://notebooks.githubusercontent.com/view/ipynb?&commit=556370e4ca1775a3910eff763cb27adb113b9f05&device=unknown_device&docs_host=https%3A%2F%2Fdocs.github.com&enc_url=68747470733a2f2f7261772e67697468756275736572636f6e74656e742e636f6d2f754f74746177612d49542d52657365617263682d7465616368696e672f5472616e736665724c6561726e696e675f434e4e2f353536333730653463613137373561333931306566663736336362323761646231313362396630352f6e6f7465626f6f6b732f322532302d2532307472616e736665724c6561726e696e67434e4e2e6970796e62&logged_in=false&nwo=uOttawa-IT-Research-teaching%2FTransferLearning_CNN&path=notebooks%2F2+-+transferLearningCNN.ipynb&platform=windows&repository_id=790769950&repository_type=Repository&version=128#VGG-16-Pre-trained-model)"
   ]
  },
  {
   "cell_type": "markdown",
   "id": "588610d4-eb6e-4f55-b587-3809294113ea",
   "metadata": {},
   "source": [
    "#### <b>Summary"
   ]
  },
  {
   "cell_type": "code",
   "execution_count": null,
   "id": "f538f82b-d172-40ce-b45d-01bbf81a13ab",
   "metadata": {},
   "outputs": [],
   "source": []
  }
 ],
 "metadata": {
  "kernelspec": {
   "display_name": "Python 3 (ipykernel)",
   "language": "python",
   "name": "python3"
  },
  "language_info": {
   "codemirror_mode": {
    "name": "ipython",
    "version": 3
   },
   "file_extension": ".py",
   "mimetype": "text/x-python",
   "name": "python",
   "nbconvert_exporter": "python",
   "pygments_lexer": "ipython3",
   "version": "3.12.7"
  }
 },
 "nbformat": 4,
 "nbformat_minor": 5
}
