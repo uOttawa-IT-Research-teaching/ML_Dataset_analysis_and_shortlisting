{
 "cells": [
  {
   "attachments": {},
   "cell_type": "markdown",
   "id": "e0e1ceb9-9809-4fc1-9f03-8c1f039f55bd",
   "metadata": {},
   "source": [
    "# Dataset analysis, model shortlisting, and model determination: 5 tutorials\n",
    "In the real world, we rarely get the luxury of neatly packaged training and testing sets. Instead, we're usually handed one massive, unstructured dataset. The key to success? How we split that data.<br>\n",
    "The way we divide our data hinges on a critical question—are we aiming for interpolation or extrapolation?<br>\n",
    "• Interpolation means our model will predict within the range of its training data—like filling in the gaps of a familiar puzzle.<br>\n",
    "• Extrapolation pushes the model beyond its comfort zone, asking it to generalize to entirely new scenarios—like predicting tomorrow’s weather based on historical patterns.\n",
    "\n",
    "**Notebook 2 of 5**\n",
    "\n",
    "In this tutorial we explore the notions of data splitting, generalization (interpolation vs. extrapolation), independence in testing data, representative splits, and theory-driven model development.\n",
    "\n",
    "* Notebook 1: The model decision-making process\n",
    "* Notebook 2: Splitting the data\n",
    "* Notebook 3: Evaluating Error: Signal vs Noise\n",
    "* Notebook 4: The Problem Domain: Chosing the Models\n",
    "* Notebook 5: Model shortlisting\n"
   ]
  },
  {
   "attachments": {},
   "cell_type": "markdown",
   "id": "f3611e9d-3de5-4016-998f-6789a6302a78",
   "metadata": {},
   "source": [
    "# Learning objectives\n",
    "Average time to complete 30min\n",
    "\n",
    "By the end of this tutorial you should be able to:\n",
    "* Learn why splitting data into training and testing sets is essential for evaluating a model's ability to generalize.\n",
    "* Understand how to ensure testing data is independent to avoid unfair advantages, using domain knowledge to assess independence effectively. \n",
    "* Gain insight into how generalization goals guide the next steps in selecting model candidates and developing hypothesis-driven approaches.\n"
   ]
  },
  {
   "cell_type": "markdown",
   "id": "0de443c9-3d93-45b0-8440-22a889a74b15",
   "metadata": {},
   "source": [
    "## What you will need for this tutorial\n",
    "\n",
    "* See the [introduction document](https://uottawa-it-research-teaching.github.io/machinelearning/) for general requirements and how Jupyter notebooks work.\n",
    "* We'll need Pandas for convenient data handling. It's a very powerful Python package that can read CSV and Excel files. It also has very good data manipulation capabilities which come in use for data cleaning.\n",
    "* We will use scikit learn as our machine learning package.\n",
    "* numpy \n",
    "* seaborn \n",
    "* matplotlib\n",
    "* requests\n",
    "* ipywidgets"
   ]
  },
  {
   "cell_type": "markdown",
   "id": "1543c611-4f53-4a07-b728-e8aa70aa7edf",
   "metadata": {},
   "source": [
    "## RDM best practices\n",
    "\n",
    "Good data handling for machine learning begins with good Research Data Managment (RDM). The quality of your source data will impact the outcome of your results, just like the reproducibility of your results will depend on the quality of your data sources, in addition to how you organize the data so that other people (and machines!) can understand and reuse it.\n",
    "\n",
    "We also need to respect a few research data management best practices along the way, these best practices are recommended by the Digital Research Alliance of Canada. In the first tutorial we encouraged you to resepct two RDM best practices:\n",
    "\n",
    "* SAVE YOUR RAW DATA IN ORIGINAL FORMAT<br>\n",
    "* BACKUP YOUR DATA (3-2-1 rule)<br>\n",
    "\n",
    "These practices should apply in this tutorial as well, but we will also look at best practices of data description, documentation and file naming that will streamline your data processing and project management. \n",
    "\n",
    "DESCRIBE YOUR DATA\n",
    "\n",
    "* Machine Friendly: Describe your dataset with a metadata standard for discovery.\n",
    "* Human Friendly: Describe your variables, so your colleagues will understand what you meant. Data without good metadata is useless. Give your variables clear names.\n",
    "* Do not leave cells blank -use numeric values clearly out of range to define missing (e.g. '99999') or not applicable (e.g. '88888') data anddescribe these in your data dictionary.\n",
    "* Convert your data to open, non-proprietary formats \n",
    "* Name your files well with basic meta-data in the file names"
   ]
  },
  {
   "cell_type": "markdown",
   "id": "e1e60b3c-f274-4bf3-8e83-e8e59c6a0c55",
   "metadata": {},
   "source": [
    "# <b>Instructor section"
   ]
  },
  {
   "cell_type": "code",
   "execution_count": 3,
   "id": "24e4d087-8010-44c1-bbc9-ceba861cb2e0",
   "metadata": {},
   "outputs": [
    {
     "data": {
      "text/plain": [
       "True"
      ]
     },
     "execution_count": 3,
     "metadata": {},
     "output_type": "execute_result"
    }
   ],
   "source": [
    "# https://mermaid.live\n",
    "# https://mermaid.js.org/syntax/flowchart.html#interaction\n",
    "\n",
    "import webbrowser\n",
    "from textwrap import dedent\n",
    "\t \n",
    "html_content = dedent('''\n",
    "\t<!DOCTYPE html>\n",
    "\t<html>\n",
    "     <style>\n",
    "     .mermaid svg {\n",
    "    display: block;\n",
    "    width: 100%;\n",
    "    height: 100%;\n",
    "    margin: 0%;\n",
    "    padding: 0;\n",
    "    }\n",
    "     </style>\n",
    "     <head>\n",
    "        <script src=\"https://d3js.org/d3.v6.min.js\"></script>\n",
    "        <script src=\"https://unpkg.com/mermaid@11.4.1/dist/mermaid.min.js\"></script>\n",
    "      </head>\n",
    "  <body>\n",
    "    <div class=\"mermaid\" style=\"max-height: 350px;max-width: 1500px;\">\n",
    "---\n",
    "title: Flow 2 - Splitting the data\n",
    "---\n",
    "    graph TD;\n",
    "    A[Data<br>'One big grab bag<br>Annual temperatures'] --> B[Task<br>'Split into Training and Testing Sets'];\n",
    "    B --> C[Goal of Splitting<br>'Test model generalization'];\n",
    "    C --> D[Types of Generalization];\n",
    "    D --> E[Interpolation<br>'Estimate within data range<br>e.g., missing middle years'];\n",
    "    E --> F('Random split<br>Sort years into bins<br>Training vs. Testing');\n",
    "    D --> G[Extrapolation<br>'Estimate beyond data range<br>e.g., future years or another town'];\n",
    "    G --> H('Time-based split<br>Train on past, test on future');\n",
    "    G --> I('Spatial split<br>Test on distant town');\n",
    "    C --> J[Key Principle<br>'Testing data must be independent']\n",
    "    J --> K('Avoid unfair advantage<br>e.g., future data tipping off trends');\n",
    "    J --> L('Domain knowledge needed<br>e.g., 1km vs. 100km town distance');\n",
    "    L --> M('Too close: Not independent<br>Shared patterns and quirks');\n",
    "    L --> N('Far enough: Independent<br>Better test of generalization');\n",
    "    C --> O[Practical Consideration<br>'Split must match model use'];\n",
    "    O --> P('Representative split<br>Accurate testing error<br>Good to go');\n",
    "    O --> Q('Unrepresentative split<br>Artificially low error<br>False security');\n",
    "    Q --> R('High consequence applications<br>Risk of unseen weaknesses');\n",
    "    S[Next Step<br>'Choosing model candidates<br>Hypothesis- and theory-driven modeling'] --> C;\n",
    "    </div>\n",
    "\n",
    "    <script type=\"module\">\n",
    "      window.addEventListener('load', function () {\n",
    "      var svgs = d3.selectAll(\".mermaid svg\");\n",
    "      svgs.each(function() {\n",
    "    var svg = d3.select(this);\n",
    "    svg.html(\"<g>\" + svg.html() + \"</g>\");\n",
    "    var inner = svg.select(\"g\");\n",
    "    var zoom = d3.zoom().on(\"zoom\", function(event) {\n",
    "      inner.attr(\"transform\", event.transform);\n",
    "    });\n",
    "    svg.call(zoom);\n",
    "  });\n",
    "});\n",
    " \n",
    "window.callback = function () {\n",
    "      alert('A callback was triggered');\n",
    "    };\n",
    "    const config = {\n",
    "      startOnLoad: true,\n",
    "      flowchart: { useMaxWidth: true, htmlLabels: true, curve: 'cardinal' },\n",
    "      securityLevel: 'loose',\n",
    "    };\n",
    "    mermaid.initialize(config);\n",
    "\n",
    "\n",
    "    </script>\n",
    "    \n",
    "  </body>\n",
    "</html>\n",
    "\t''')\n",
    "\t \n",
    "# Save to file and open in browser\n",
    "with open('mermaid_flowchart2.html', 'w') as f:\n",
    "\tf.write(html_content)\n",
    "\t \n",
    "webbrowser.open('mermaid_flowchart2.html')\n"
   ]
  },
  {
   "cell_type": "markdown",
   "id": "99dd3a0c-3047-42dc-b16d-73428ad990d9",
   "metadata": {},
   "source": [
    "# <b>Participant section"
   ]
  },
  {
   "cell_type": "markdown",
   "id": "7266477d-4c2e-4ae1-8c19-90f4b5b5b525",
   "metadata": {},
   "source": [
    "```mermaid\n",
    "graph TD;\n",
    "    A[Data<br>'One big grab bag<br>Annual temperatures'] --> B[Task<br>'Split into Training and Testing Sets'];\n",
    "    B --> C[Goal of Splitting<br>'Test model generalization'];\n",
    "    C --> D[Types of Generalization];\n",
    "    D --> E[Interpolation<br>'Estimate within data range<br>e.g., missing middle years'];\n",
    "    E --> F('Random split<br>Sort years into bins<br>Training vs. Testing');\n",
    "    D --> G[Extrapolation<br>'Estimate beyond data range<br>e.g., future years or another town'];\n",
    "    G --> H('Time-based split<br>Train on past, test on future');\n",
    "    G --> I('Spatial split<br>Test on distant town');\n",
    "    C --> J[Key Principle<br>'Testing data must be independent']\n",
    "    J --> K('Avoid unfair advantage<br>e.g., future data tipping off trends');\n",
    "    J --> L('Domain knowledge needed<br>e.g., 1km vs. 100km town distance');\n",
    "    L --> M('Too close: Not independent<br>Shared patterns and quirks');\n",
    "    L --> N('Far enough: Independent<br>Better test of generalization');\n",
    "    C --> O[Practical Consideration<br>'Split must match model use'];\n",
    "    O --> P('Representative split<br>Accurate testing error<br>Good to go');\n",
    "    O --> Q('Unrepresentative split<br>Artificially low error<br>False security');\n",
    "    Q --> R('High consequence applications<br>Risk of unseen weaknesses');\n",
    "    S[Next Step<br>'Choosing model candidates<br>Hypothesis- and theory-driven modeling'] --> C;\n",
    "```"
   ]
  },
  {
   "cell_type": "markdown",
   "id": "935ecb62-4060-44e6-92ce-6c081e70228f",
   "metadata": {},
   "source": [
    "### 1. Data and Task: "
   ]
  },
  {
   "cell_type": "markdown",
   "id": "8ac2373e-ab73-4c89-a037-e678737222db",
   "metadata": {},
   "source": [
    "```mermaid\n",
    "graph TD;\n",
    "    A[Data<br>'One big grab bag<br>Annual temperatures'] --> B[Task<br>'Split into Training and Testing Sets'];\n",
    "```"
   ]
  },
  {
   "attachments": {},
   "cell_type": "markdown",
   "id": "f0dd64a1-3193-40ff-9f7d-038ff3fb948e",
   "metadata": {},
   "source": [
    "The diagram begins with \"Data\" (a single set of annual temperatures) and the \"Task\" of splitting it into training and testing sets.\n"
   ]
  },
  {
   "cell_type": "markdown",
   "id": "c0f3d2bb-3e47-42a3-bf2a-5cb589eba599",
   "metadata": {},
   "source": [
    "### 2. Goal and Types: "
   ]
  },
  {
   "cell_type": "markdown",
   "id": "d563c815-22e4-47fc-b1f2-df607ecad076",
   "metadata": {},
   "source": [
    "```mermaid\n",
    "graph TD;\n",
    "    C[Goal of Splitting<br>'Test model generalization'];\n",
    "    C --> D[Types of Generalization];\n",
    "    D --> E[Interpolation<br>'Estimate within data range<br>e.g., missing middle years'];\n",
    "    E --> F('Random split<br>Sort years into bins<br>Training vs. Testing');\n",
    "    D --> G[Extrapolation<br>'Estimate beyond data range<br>e.g., future years or another town'];\n",
    "    G --> H('Time-based split<br>Train on past, test on future');\n",
    "    G --> I('Spatial split<br>Test on distant town');\n",
    "```"
   ]
  },
  {
   "cell_type": "markdown",
   "id": "f2ea0b1d-bd50-4f30-bc8b-c13693c9e5a8",
   "metadata": {},
   "source": [
    "The \"Goal of Splitting\" is to test generalization, which branches into two types:<br>\n",
    "\t\t• \"Interpolation\" (estimating within the data range, e.g., missing years), handled with a random split.<br>\n",
    "\t\t• \"Extrapolation\" (estimating beyond the data range, e.g., future years or another town), requiring a time-based split (past vs. future) or spatial split (distant town).\n"
   ]
  },
  {
   "cell_type": "markdown",
   "id": "5abf0a19-73d0-4b9d-8116-189de0a7be42",
   "metadata": {},
   "source": [
    "### 3. Key Principle: "
   ]
  },
  {
   "cell_type": "markdown",
   "id": "eacebba3-18ac-4012-9e17-44157faa0ea6",
   "metadata": {},
   "source": [
    "```mermaid\n",
    "graph TD;\n",
    "    J[Key Principle<br>'Testing data must be independent']\n",
    "    J --> K('Avoid unfair advantage<br>e.g., future data tipping off trends');\n",
    "    J --> L('Domain knowledge needed<br>e.g., 1km vs. 100km town distance');\n",
    "    L --> M('Too close: Not independent<br>Shared patterns and quirks');\n",
    "    L --> N('Far enough: Independent<br>Better test of generalization');\n",
    "```"
   ]
  },
  {
   "cell_type": "markdown",
   "id": "67b489eb-31df-4a7a-ada6-0bcc2a1faf09",
   "metadata": {},
   "source": [
    "The testing data must be \"Independent\" to ensure a fair test, avoiding unfair advantages (e.g., future data revealing trends) and requiring domain knowledge to assess independence (e.g., distinguishing a 1km vs. 100km town distance).\n"
   ]
  },
  {
   "cell_type": "markdown",
   "id": "7090abc5-0ed7-484b-b294-a4c918b1d970",
   "metadata": {},
   "source": [
    "Independence Example: <br>\n",
    "• Too close (1km) means shared patterns, making data not independent.<br>\n",
    "• Far enough (100km) ensures independence, offering a true test of generalization.\n"
   ]
  },
  {
   "cell_type": "markdown",
   "id": "b515b3a7-4914-460e-b87d-54e87015ad44",
   "metadata": {},
   "source": [
    "### 4. Practical Consideration:"
   ]
  },
  {
   "cell_type": "markdown",
   "id": "2833cf33-7a52-48e4-8626-e500c85d2aa0",
   "metadata": {},
   "source": [
    "``` mermaid\n",
    "graph TD;\n",
    "O[Practical Consideration<br>'Split must match model use'];\n",
    "O --> P('Representative split<br>Accurate testing error<br>Good to go');\n",
    "O --> Q('Unrepresentative split<br>Artificially low error<br>False security');\n",
    "Q --> R('High consequence applications<br>Risk of unseen weaknesses');\n",
    "```"
   ]
  },
  {
   "cell_type": "markdown",
   "id": "da976ee6-4ab4-499c-b9c3-69f2ef9df110",
   "metadata": {},
   "source": [
    "The split must reflect how the model will be used:<br>\n",
    "• A \"Representative Split\" yields accurate testing errors and confidence in the model.<br>\n",
    "An \"Unrepresentative Split\" risks artificially low errors, leading to false security and potential weaknesses in high-consequence scenarios."
   ]
  },
  {
   "cell_type": "markdown",
   "id": "936245a8-6e68-4c66-82d6-85caeadf1d4f",
   "metadata": {},
   "source": [
    "#### <b>Summary"
   ]
  },
  {
   "cell_type": "code",
   "execution_count": null,
   "id": "ff543b52-deed-43d7-9822-586a92d9db31",
   "metadata": {},
   "outputs": [],
   "source": []
  }
 ],
 "metadata": {
  "kernelspec": {
   "display_name": "Python 3 (ipykernel)",
   "language": "python",
   "name": "python3"
  },
  "language_info": {
   "codemirror_mode": {
    "name": "ipython",
    "version": 3
   },
   "file_extension": ".py",
   "mimetype": "text/x-python",
   "name": "python",
   "nbconvert_exporter": "python",
   "pygments_lexer": "ipython3",
   "version": "3.12.7"
  }
 },
 "nbformat": 4,
 "nbformat_minor": 5
}
