{
 "cells": [
  {
   "attachments": {},
   "cell_type": "markdown",
   "id": "fda3132f-b0fa-4896-a102-37b1b61e536c",
   "metadata": {},
   "source": [
    "# Dataset analysis, model shortlisting, and model determination: model decision-making process\n",
    "In all of the past notebooks we have looked at many different models and many different datasets. However, one big question remains: When to pick which model?\n",
    "\n",
    "That is of course not an easy question to answer. We have indeed seen a few notebooks where we tried to apply a specific machine learning algorithm and it would just fail. For example the with k-nearest neighbours, we tried to classify books and failed to produce any accurate predictions for the genres. However when we tried the same thing with Naive Bayes, it worked really well!\n",
    "\n",
    "**Notebook 1 of 5**\n",
    "\n",
    "In this tutorial series, we’ll explore the process of selecting the right model—a balance between simplicity and complexity, accuracy and generalization. Through this journey, you’ll learn how to approach real-world data challenges with confidence and make informed decisions about which model truly serves your goals. There are five notebooks in this tutorial series, each notebook explores a different step in the art of selecting the right model.\n",
    "\n",
    "* Notebook 1: The model decision-making process\n",
    "* Notebook 2: Splitting the data\n",
    "* Notebook 3: Evaluating Error: Signal vs Noise\n",
    "* Notebook 4: The Problem Domain: Chosing the Models\n",
    "* Notebook 5: Model shortlisting\n",
    "\n",
    "**Notebook 1 - The model decision-making process** uses a fictitious scenario representing 140 years of annual temperature records as a basic case study to understand key notions involved in deciding the model to use. Notebooks 2, 3, 4 and 5 provide a deeper exploration of those notions.\n"
   ]
  },
  {
   "cell_type": "markdown",
   "id": "deb2489b-52b8-4610-bba7-b0982c1ecb81",
   "metadata": {},
   "source": [
    "# Learning objectives\n",
    "Average time to complete 20min\n",
    "\n",
    "By the end of this tutorial you should be able to:\n",
    "* Acquire a basic understanding of what's involved in the machine learning model selection process."
   ]
  },
  {
   "cell_type": "markdown",
   "id": "9a2a47a6-202b-430e-bd14-629524490499",
   "metadata": {},
   "source": [
    "## What you will need for this tutorial\n",
    "\n",
    "* See the [introduction document](https://uottawa-it-research-teaching.github.io/machinelearning/) for general requirements and how Jupyter notebooks work.\n",
    "* To start working with Python, we need to launch a program that will interpret and execute our Python commands. Below we list several options. If you don’t have a preference, proceed with the top option in the list that is available on your machine. Otherwise, you may use any interface you like. <br>\n",
    "* <b> [How to launch Jupyter notebooks](https://swcarpentry.github.io/python-novice-inflammation/#option-a-jupyter-notebook) </b><br><br>\n",
    "A clean install should provide all the packages needed for this workshop.\n",
    "* We will use scikit learn as our machine learning package.\n",
    "* numpy \n",
    "* seaborn \n",
    "* matplotlib\n",
    "* requests\n",
    "* ipywidgets"
   ]
  },
  {
   "cell_type": "markdown",
   "id": "d21b9736-75d6-458a-9ad5-e4ab5725e3aa",
   "metadata": {},
   "source": [
    "## RDM best practices\n",
    "\n",
    "Good data handling for machine learning begins with good Research Data Managment (RDM). The quality of your source data will impact the outcome of your results, just like the reproducibility of your results will depend on the quality of your data sources, in addition to how you organize the data so that other people (and machines!) can understand and reuse it.\n",
    "\n",
    "We also need to respect a few research data management best practices along the way, these best practices are recommended by the Digital Research Alliance of Canada. In the first tutorial we encouraged you to resepct two RDM best practices:\n",
    "\n",
    "* SAVE YOUR RAW DATA IN ORIGINAL FORMAT<br>\n",
    "* BACKUP YOUR DATA (3-2-1 rule)<br>\n",
    "\n",
    "These practices should apply in this tutorial as well, but we will also look at best practices of data description, documentation and file naming that will streamline your data processing and project management. \n",
    "\n",
    "DESCRIBE YOUR DATA\n",
    "\n",
    "* Machine Friendly: Describe your dataset with a metadata standard for discovery.\n",
    "* Human Friendly: Describe your variables, so your colleagues will understand what you meant. Data without good metadata is useless. Give your variables clear names.\n",
    "* Do not leave cells blank -use numeric values clearly out of range to define missing (e.g. '99999') or not applicable (e.g. '88888') data anddescribe these in your data dictionary.\n",
    "* Convert your data to open, non-proprietary formats \n",
    "* Name your files well with basic meta-data in the file names\n"
   ]
  },
  {
   "cell_type": "markdown",
   "id": "345df1d6-b266-47c2-a03d-ab70a4975e65",
   "metadata": {
    "panel-layout": {
     "height": 60.6167,
     "visible": true,
     "width": 100
    }
   },
   "source": [
    "# <b>Instructor section"
   ]
  },
  {
   "cell_type": "code",
   "execution_count": 8,
   "id": "6ae6ac97-6dc9-44e9-98c1-1a8392cb1f87",
   "metadata": {
    "panel-layout": {
     "height": 27.15,
     "visible": true,
     "width": 100
    }
   },
   "outputs": [
    {
     "data": {
      "text/plain": [
       "True"
      ]
     },
     "execution_count": 8,
     "metadata": {},
     "output_type": "execute_result"
    }
   ],
   "source": [
    "# https://mermaid.live\n",
    "# https://mermaid.js.org/syntax/flowchart.html#interaction\n",
    "\n",
    "import webbrowser\n",
    "from textwrap import dedent\n",
    "\t \n",
    "html_content = dedent('''\n",
    "\t<!DOCTYPE html>\n",
    "\t<html>\n",
    "     <style>\n",
    "     .mermaid svg {\n",
    "    display: block;\n",
    "    width: 100%;\n",
    "    height: 100%;\n",
    "    margin: 0%;\n",
    "    padding: 0;\n",
    "    }\n",
    "     </style>\n",
    "     <head>\n",
    "        <script src=\"https://d3js.org/d3.v6.min.js\"></script>\n",
    "        <script src=\"https://unpkg.com/mermaid@11.4.1/dist/mermaid.min.js\"></script>\n",
    "      </head>\n",
    "  <body>\n",
    "    <div class=\"mermaid\" style=\"max-height: 350px;max-width: 1500px;\">\n",
    "---\n",
    "title: Flow 1 - The Process\n",
    "---\n",
    "    graph TD;\n",
    "    A[Data<br>'Annual temperatures, 120 years<br>Upward trend with curvature'] --> B[Goal of Modeling<br>'Capture underlying pattern<br>Generalize to new situations'];\n",
    "    B --> C[Model Candidates];\n",
    "    C --> D[Linear Model<br>'Straight line, captures tilt<br>Misses curvature'];\n",
    "    C --> E[Quadratic Model<br>'Order-2 polynomial<br>Captures curvature, adds lift'];\n",
    "    C --> F[Cubic Model<br>'Order-3 polynomial'];\n",
    "    C --> G[Quartic Model<br>'Order-4 polynomial'];\n",
    "    C --> H[Higher-Order Models<br>'Order-5 to Order-8 polynomials<br>Increasing wiggles'];\n",
    "    C --> I[Interpolation Model<br>'Connects all points<br>Zero error, no generalization'];\n",
    "    B --> J[Data Split<br>'Separate signal from error'];\n",
    "    J --> K[Training Data<br>'70% of data<br>Fit models'];\n",
    "    J --> L[Testing Data<br>'30% of data<br>Evaluate generalization'];\n",
    "    K --> M[Train Models<br>'Fit candidates to training data'];\n",
    "    M --> N[Evaluate Errors];\n",
    "    N --> O[Training Error<br>'Hollow circles<br>Decreases with complexity'];\n",
    "    N --> P[Testing Error<br>'Solid circles<br>Key for model selection'];\n",
    "    O --> Q('Linear: High error<br>Misses curvature');\n",
    "    O --> R('Quadratic: Lower error<br>Captures curvature');\n",
    "    O --> S('Order-5: Lowest training error<br>Subtle differences');\n",
    "    P --> T('Quartic: Lowest testing error<br>Best generalization');\n",
    "    P --> U('Higher-order: Rising error<br>Captures quirks, not pattern');\n",
    "    P --> V('Interpolation: High testing error<br>Fails to generalize');\n",
    "    B --> W[Winner<br>'Quartic -Order4 polynomial<br>Balances fit and generalization'];\n",
    "    X[Next Step<br>'Deeper discussion on model qualities'] --> B;\n",
    "    </div>\n",
    "\n",
    "    <script type=\"module\">\n",
    "      window.addEventListener('load', function () {\n",
    "      var svgs = d3.selectAll(\".mermaid svg\");\n",
    "      svgs.each(function() {\n",
    "    var svg = d3.select(this);\n",
    "    svg.html(\"<g>\" + svg.html() + \"</g>\");\n",
    "    var inner = svg.select(\"g\");\n",
    "    var zoom = d3.zoom().on(\"zoom\", function(event) {\n",
    "      inner.attr(\"transform\", event.transform);\n",
    "    });\n",
    "    svg.call(zoom);\n",
    "  });\n",
    "});\n",
    " \n",
    "window.callback = function () {\n",
    "      alert('A callback was triggered');\n",
    "    };\n",
    "    const config = {\n",
    "      startOnLoad: true,\n",
    "      flowchart: { useMaxWidth: true, htmlLabels: true, curve: 'cardinal' },\n",
    "      securityLevel: 'loose',\n",
    "    };\n",
    "    mermaid.initialize(config);\n",
    "\n",
    "\n",
    "    </script>\n",
    "    \n",
    "  </body>\n",
    "</html>\n",
    "\t''')\n",
    "\t \n",
    "# Save to file and open in browser\n",
    "with open('mermaid_flowchart1.html', 'w') as f:\n",
    "\tf.write(html_content)\n",
    "\t \n",
    "webbrowser.open('mermaid_flowchart1.html')"
   ]
  },
  {
   "cell_type": "markdown",
   "id": "dcb540f3-9153-41ae-9e68-aa33ef84184c",
   "metadata": {
    "panel-layout": {
     "height": 60.6167,
     "visible": true,
     "width": 100
    }
   },
   "source": [
    "# <b>Participant section"
   ]
  },
  {
   "cell_type": "markdown",
   "id": "07f6a6d9-a86e-4174-b60b-e0b8cc1d5367",
   "metadata": {
    "panel-layout": {
     "height": 50.85,
     "visible": true,
     "width": 100
    }
   },
   "source": [
    "## Complete diagram"
   ]
  },
  {
   "cell_type": "markdown",
   "id": "13504cb7-f41b-43d5-a1d3-d5f0528d31b5",
   "metadata": {
    "panel-layout": {
     "height": 485.6,
     "visible": true,
     "width": 100
    }
   },
   "source": [
    "```mermaid \n",
    "flowchart TD;\n",
    "    A[Data<br>'Annual temperatures, 140 years<br>Upward trend with curvature'] --> B[Goal of Modeling<br>'Capture underlying pattern<br>Generalize to new situations'];\n",
    "    B --> C[Model Candidates];\n",
    "    C --> D[Linear Model<br>'Straight line, captures tilt<br>Misses curvature'];\n",
    "    C --> E[Quadratic Model<br>'Order-2 polynomial<br>Captures curvature, adds lift'];\n",
    "    C --> F[Cubic Model<br>'Order-3 polynomial'];\n",
    "    C --> G[Quartic Model<br>'Order-4 polynomial'];\n",
    "    C --> H[Higher-Order Models<br>'Order-5 to Order-8 polynomials<br>Increasing wiggles'];\n",
    "    C --> I[Interpolation Model<br>'Connects all points<br>Zero error, no generalization'];\n",
    "    B --> J[Data Split<br>'Separate signal from error'];\n",
    "    J --> K[Training Data<br>'70% of data<br>Fit models'];\n",
    "    J --> L[Testing Data<br>'30% of data<br>Evaluate generalization'];\n",
    "    K --> M[Train Models<br>'Fit candidates to training data'];\n",
    "    M --> N[Evaluate Errors];\n",
    "    N --> O[Training Error<br>'Hollow circles<br>Decreases with complexity'];\n",
    "    N --> P[Testing Error<br>'Solid circles<br>Key for model selection'];\n",
    "    O --> Q('Linear: High error<br>Misses curvature');\n",
    "    O --> R('Quadratic: Lower error<br>Captures curvature');\n",
    "    O --> S('Order-5: Lowest training error<br>Subtle differences');\n",
    "    P --> T('Quartic: Lowest testing error<br>Best generalization');\n",
    "    P --> U('Higher-order: Rising error<br>Captures quirks, not pattern');\n",
    "    P --> V('Interpolation: High testing error<br>Fails to generalize');\n",
    "    B --> W[Winner<br>'Quartic -Order4 polynomial<br>Balances fit and generalization'];\n",
    "    X[Next Step<br>'Deeper discussion on model qualities'] --> B;\n",
    "```"
   ]
  },
  {
   "cell_type": "markdown",
   "id": "e37f7a82-623c-4458-8310-599a6c969e4c",
   "metadata": {
    "panel-layout": {
     "height": 50.85,
     "visible": true,
     "width": 100
    }
   },
   "source": [
    "## Explanation of the diagram"
   ]
  },
  {
   "cell_type": "markdown",
   "id": "f29641f5-cf54-4edb-8b04-40815ccaefa1",
   "metadata": {
    "panel-layout": {
     "height": 44.0833,
     "visible": true,
     "width": 100
    }
   },
   "source": [
    "### 1. Data and Goal: \n"
   ]
  },
  {
   "cell_type": "markdown",
   "id": "97b890ce-a467-480b-8f44-af4169cf3500",
   "metadata": {
    "panel-layout": {
     "height": 108.3,
     "visible": true,
     "width": 100
    }
   },
   "source": [
    "```mermaid\n",
    "\n",
    "flowchart TD;\n",
    "A[Data<br>'Annual temperatures, 140 years<br>Upward trend with curvature'] --> B[Goal of Modeling:<br>'Capture underlying pattern<br>Generalize to new situations'];\n",
    "```"
   ]
  },
  {
   "cell_type": "markdown",
   "id": "bdc01fa6-b50b-4633-8912-522562d1d656",
   "metadata": {
    "panel-layout": {
     "height": 51.15,
     "visible": true,
     "width": 100
    }
   },
   "source": [
    "* The diagram starts with the \"Data\" (140 years of temperatures with an upward trend and curvature) and the \"Goal of Modeling\" (capturing the pattern for generalization)."
   ]
  },
  {
   "cell_type": "markdown",
   "id": "39d9f639-ef49-453d-9e4e-8030357526c6",
   "metadata": {
    "panel-layout": {
     "height": 51.149993896484375,
     "visible": true,
     "width": 100
    }
   },
   "source": [
    "![alt text](./pics/scatter_plot_temp.jpg)"
   ]
  },
  {
   "cell_type": "markdown",
   "id": "ccea4a93-0c9b-4ca4-8277-832d4a7de71d",
   "metadata": {
    "panel-layout": {
     "height": 44.0833,
     "visible": true,
     "width": 100
    }
   },
   "source": [
    "### 2. Model Candidates:\n",
    "\n"
   ]
  },
  {
   "attachments": {},
   "cell_type": "markdown",
   "id": "32e7676f-7a92-4f4b-af1b-8e2aa868a035",
   "metadata": {
    "panel-layout": {
     "height": 85.44999694824219,
     "visible": true,
     "width": 100
    }
   },
   "source": [
    "Numerous models can illustrate this data, but a linear model serves as an excellent initial approach due to its simplicity. When we plot the best-fit straight line, we see it performs reasonably well. It successfully captures the overall upward trend in the data. However, it falls short in representing the curvature present in the dataset. Upon closer inspection, it becomes evident that a simple linear model doesn't quite meet our desired level of accuracy. While it provides a good starting point, the straight line approximation leaves room for improvement in fully representing the data's nuances.\n"
   ]
  },
  {
   "cell_type": "markdown",
   "id": "d8647da3-901b-4940-8029-c097fff92101",
   "metadata": {
    "panel-layout": {
     "height": 51.149993896484375,
     "visible": true,
     "width": 100
    }
   },
   "source": [
    "![alt text](./pics/scatter_plot_temp_linear.jpg)"
   ]
  },
  {
   "attachments": {},
   "cell_type": "markdown",
   "id": "d5082e2f-a812-4cad-a7ef-bdfa577ff0f0",
   "metadata": {
    "panel-layout": {
     "height": 85.44999694824219,
     "visible": true,
     "width": 100
    }
   },
   "source": [
    "Fortunately, we have numerous alternatives at our disposal. A logical next step is to consider a quadratic model, which incorporates a squared term in addition to the linear component. This type of polynomial introduces curvature to the fit. When we examine the best-fit quadratic curve, we observe that it effectively captures the upward trend on the right side of the graph and the central curve. However, it also introduces a slight upward bend on the left side of the plot, a feature that isn't clearly evident in the original data points. This quadratic model, while more flexible than the linear approach, may be overcompensating in certain areas of the dataset.\n"
   ]
  },
  {
   "cell_type": "markdown",
   "id": "7e20f42f-31da-40bb-a4eb-3a612cb77c2f",
   "metadata": {
    "panel-layout": {
     "height": 51.149993896484375,
     "visible": true,
     "width": 100
    }
   },
   "source": [
    "![alt text](./pics/scatter_plot_temp_quad.jpg)"
   ]
  },
  {
   "cell_type": "markdown",
   "id": "a271965a-3f15-4de8-9dc2-22480562d9d7",
   "metadata": {
    "panel-layout": {
     "height": 211.2,
     "visible": true,
     "width": 100
    }
   },
   "source": [
    "```mermaid\n",
    "flowchart TD;\n",
    "    \tC[Model Candidates];\n",
    "        C --> D[Linear Model<br>'Straight line, captures tilt<br>Misses curvature'];\n",
    "        C --> E[Quadratic Model<br>'Order-2 polynomial<br>Captures curvature, adds lift'];\n",
    "        C --> F[Cubic Model<br>'Order-3 polynomial'];\n",
    "        C --> G[Quartic Model<br>'Order-4 polynomial'];\n",
    "        C --> H[Higher-Order Models<br>'Order-5 to Order-8 polynomials<br>Increasing wiggles'];\n",
    "        C --> I[Interpolation Model<br>'Connects all points<br>Zero error, no generalization'];\n",
    "```"
   ]
  },
  {
   "cell_type": "markdown",
   "id": "38b29571-5e98-47a6-a46d-97f1b435e64e",
   "metadata": {
    "panel-layout": {
     "height": 188.35000610351562,
     "visible": true,
     "width": 100
    }
   },
   "source": [
    "Various models are listed, from a simple \"Linear Model\" to complex \"Higher-Order Models\" (order-5 to order-8) and an extreme \"Interpolation Model,\" each with strengths and weaknesses (e.g., missing curvature, adding wiggles, or overfitting).\n",
    "As we progress to higher-order polynomials, the model seems to improve its fit to the data. However, this comes with a trade-off: the curve begins to exhibit more complex behavior, introducing additional undulations. If we extend this concept to its logical extreme, we could theoretically create a model that intersects precisely with every data point, resulting in zero error and perfect alignment with our observed measurements. <br>\n",
    "![alt text](./pics/scatter_plot_temp_inter.jpg)<br>\n",
    "But this raises an important question: does achieving zero deviation from the data necessarily equate to the most effective model? This scenario highlights the balance between accuracy and simplicity in model selection, touching on the concept of overfitting versus generalization in data analysis. We demonstrate this question in our <b> [Linear Regression Model](https://notebooks.githubusercontent.com/view/ipynb?&commit=5ead46fe16edd62e097872af1288bc211f33521c&device=unknown_device&docs_host=https%3A%2F%2Fdocs.github.com&enc_url=68747470733a2f2f7261772e67697468756275736572636f6e74656e742e636f6d2f754f74746177612d49542d52657365617263682d7465616368696e672f4d4c5f636c65616e696e675f616e645f72656772657373696f6e2f356561643436666531366564643632653039373837326166313238386263323131663333353231632f6e6f7465626f6f6b732f4d4c54535f32303234303533305f444352465f4e6f7465626f6f6b5f454e5f312e302e6970796e62&logged_in=false&nwo=uOttawa-IT-Research-teaching%2FML_cleaning_and_regression&path=notebooks%2FMLTS_20240530_DCRF_Notebook_EN_1.0.ipynb?#Linear-Regression-Model-for-Machine-Learning)</b> workshop."
   ]
  },
  {
   "cell_type": "markdown",
   "id": "be01c85d-8633-4c44-9578-ee4eeb2b40dd",
   "metadata": {
    "panel-layout": {
     "height": 68.3,
     "visible": true,
     "width": 100
    }
   },
   "source": [
    "The value of models lies in their ability to extrapolate insights from one context to another. When we employ a model, we operate under the premise that there's a fundamental pattern we aim to identify, albeit one that's obscured by noise or error. The primary objective of an effective model is to penetrate this layer of error and reveal the underlying pattern. In essence, a good model acts as a filter, sifting through the noise to discern the true signal within the data. \n",
    "The most common way to distinguish between meaningful trends and random fluctuations is to split our data into two groups. We can use one group to train out model, and then we can test it to see how closely it fits the second group. The first group is the training set, and the second group is the testing data set.\n"
   ]
  },
  {
   "cell_type": "markdown",
   "id": "299d041e-961a-4b09-8725-c79b810f4f3f",
   "metadata": {
    "panel-layout": {
     "height": 44.0833,
     "visible": true,
     "width": 100
    }
   },
   "source": [
    "### 3. Data Split: "
   ]
  },
  {
   "cell_type": "markdown",
   "id": "acf09385-104f-4777-9e43-05825dca66e1",
   "metadata": {
    "panel-layout": {
     "height": 142.6,
     "visible": true,
     "width": 100
    }
   },
   "source": [
    "```mermaid\n",
    "flowchart TD;\n",
    "    \tJ[Data Split<br>'Separate signal from error'];\n",
    "    J --> K[Training Data<br>'70% of data<br>Fit models'];\n",
    "    J --> L[Testing Data<br>'30% of data<br>Evaluate generalization'];\n",
    "```"
   ]
  },
  {
   "cell_type": "markdown",
   "id": "64c05309-3e58-4d93-86ed-98931ec14ac1",
   "metadata": {
    "panel-layout": {
     "height": 51.15,
     "visible": true,
     "width": 100
    }
   },
   "source": [
    "* The data is split into \"Training Data\" (70%) and \"Testing Data\" (30%) to separate signal from error and evaluate generalization.\n"
   ]
  },
  {
   "cell_type": "markdown",
   "id": "e9679346-8396-42e7-aef5-52c20030905d",
   "metadata": {
    "panel-layout": {
     "height": 44.0833,
     "visible": true,
     "width": 100
    }
   },
   "source": [
    "### 4. Train and Evaluate:\n"
   ]
  },
  {
   "cell_type": "markdown",
   "id": "177095c0-ec2a-4b00-9478-e81aaee7e577",
   "metadata": {
    "panel-layout": {
     "height": 125.45,
     "visible": true,
     "width": 100
    }
   },
   "source": [
    "```mermaid\n",
    "flowchart TD;\n",
    "    \tM[Train Models<br>'Fit candidates to training data'];\n",
    "    M --> N[Evaluate Errors];\n",
    "```"
   ]
  },
  {
   "cell_type": "markdown",
   "id": "4d02205d-d05a-4f98-9066-9997892c0b1c",
   "metadata": {
    "panel-layout": {
     "height": 51.15,
     "visible": true,
     "width": 100
    }
   },
   "source": [
    " * Models are trained on the training data, and their performance is assessed via \"Training Error\" (how well they fit the training set) and \"Testing Error\" (how well they generalize to the test set). An example is shown here <b>[SVM Kernels](https://notebooks.githubusercontent.com/view/ipynb?&commit=7cc9d6d968c92a16a792e052658cfbc72065777b&device=unknown_device&docs_host=https%3A%2F%2Fdocs.github.com&enc_url=68747470733a2f2f7261772e67697468756275736572636f6e74656e742e636f6d2f754f74746177612d49542d52657365617263682d7465616368696e672f53564d2f376363396436643936386339326131366137393265303532363538636662633732303635373737622f6e6f7465626f6f6b732f4d4c54535f32303234303533305f53564d5f4e6f7465626f6f6b324b65726e656c735f454e5f312e302e6970796e62&logged_in=false&nwo=uOttawa-IT-Research-teaching%2FSVM&path=notebooks%2FMLTS_20240530_SVM_Notebook2Kernels_EN_1.0.ipynb&platform=windows&repository_id=696287816&repository_type=Repository&version=128#Run-SVM-with-default-hyperparameters)"
   ]
  },
  {
   "cell_type": "markdown",
   "id": "6e97071a-3b72-484f-83bb-73c8d9a4305e",
   "metadata": {
    "panel-layout": {
     "height": 44.0833,
     "visible": true,
     "width": 100
    }
   },
   "source": [
    "### 5. Error Insights: \n",
    "    "
   ]
  },
  {
   "cell_type": "markdown",
   "id": "a2fbf0fd-1b6a-49d7-b290-7e99557a168b",
   "metadata": {
    "panel-layout": {
     "height": 245.5,
     "visible": true,
     "width": 100
    }
   },
   "source": [
    "```mermaid\n",
    "flowchart TD;\n",
    "    \tN[Evaluate Errors];\n",
    "    N --> O[Training Error<br>'Hollow circles<br>Decreases with complexity'];\n",
    "    N --> P[Testing Error<br>'Solid circles<br>Key for model selection'];\n",
    "    O --> Q('Linear: High error<br>Misses curvature');\n",
    "    O --> R('Quadratic: Lower error<br>Captures curvature');\n",
    "    O --> S('Order-5: Lowest training error<br>Subtle differences');\n",
    "    P --> T('Quartic: Lowest testing error<br>Best generalization');\n",
    "    P --> U('Higher-order: Rising error<br>Captures quirks, not pattern');\n",
    "    P --> V('Interpolation: High testing error<br>Fails to generalize');\n",
    "```"
   ]
  },
  {
   "cell_type": "markdown",
   "id": "888c909c-c5b5-42bc-8b98-482ac0d8a2e8",
   "metadata": {
    "panel-layout": {
     "height": 68.3,
     "visible": true,
     "width": 100
    }
   },
   "source": [
    "* \"Training Error\" decreases with complexity, with the \"Order-5\" model showing the lowest error.\n",
    "* \"Testing Error\" reveals the \"Quartic Model\" as the best, with higher-order models showing increased error due to overfitting, and the interpolation model failing entirely.\n",
    "\n",
    "We see this evaluation of errors in the Support Vector Machine workshop <b>[SVM Kernel and Hyperparameter](https://notebooks.githubusercontent.com/view/ipynb?&commit=7cc9d6d968c92a16a792e052658cfbc72065777b&device=unknown_device&docs_host=https%3A%2F%2Fdocs.github.com&enc_url=68747470733a2f2f7261772e67697468756275736572636f6e74656e742e636f6d2f754f74746177612d49542d52657365617263682d7465616368696e672f53564d2f376363396436643936386339326131366137393265303532363538636662633732303635373737622f6e6f7465626f6f6b732f4d4c54535f32303234303533305f53564d5f4e6f7465626f6f6b324b65726e656c735f454e5f312e302e6970796e62&logged_in=false&nwo=uOttawa-IT-Research-teaching%2FSVM&path=notebooks%2FMLTS_20240530_SVM_Notebook2Kernels_EN_1.0.ipynb&platform=windows&repository_id=696287816&repository_type=Repository&version=128#Run-SVM-with-default-hyperparameters)"
   ]
  },
  {
   "cell_type": "markdown",
   "id": "2f2e7b44-b140-4c66-a0bc-f499535a4e8c",
   "metadata": {
    "panel-layout": {
     "height": 44.0833,
     "visible": true,
     "width": 100
    }
   },
   "source": [
    "### 6. The Selected Model: \n"
   ]
  },
  {
   "cell_type": "markdown",
   "id": "60251bd2-25bd-4577-8654-774c54646746",
   "metadata": {
    "panel-layout": {
     "height": 125.45,
     "visible": true,
     "width": 100
    }
   },
   "source": [
    "```mermaid\n",
    "flowchart TD;\n",
    "    A[Data<br>'Annual temperatures, 120 years<br>Upward trend with curvature'] --> B[Goal of Modeling:<br>'Capture underlying pattern<br>Generalize to new situations'];\n",
    "    B --> W[Winner<br>'Quartic -Order4 polynomial<br>Balances fit and generalization'];\n",
    "```"
   ]
  },
  {
   "cell_type": "markdown",
   "id": "80781e66-269e-4069-b0e4-46b3b5556d85",
   "metadata": {
    "panel-layout": {
     "height": 51.15,
     "visible": true,
     "width": 100
    }
   },
   "source": [
    "* In this example, the best model is chosen based on the train-test approach which happens to be the order 4 polynomial. <br>\n",
    "![Quartic](./pics/scatter_plot_temp_inter.jpg)<br>We saw this approach in the <b>[Random Forest + Noisy Dataset Tutorial](https://notebooks.githubusercontent.com/view/ipynb?&commit=2f71e04f66007fd2ea722fd786e34c05273e0b4d&device=unknown_device&docs_host=https%3A%2F%2Fdocs.github.com&enc_url=68747470733a2f2f7261772e67697468756275736572636f6e74656e742e636f6d2f754f74746177612d49542d52657365617263682d7465616368696e672f4465636973696f6e54726565732f326637316530346636363030376664326561373232666437383665333463303532373365306234642f6e6f7465626f6f6b732f4d4c54535f32303234303533305f445452465f4e6f7465626f6f6b3352616e646f6d466f726573744e6f69737944617461736574735f454e5f312e302e6970796e62&logged_in=false&nwo=uOttawa-IT-Research-teaching%2FDecisionTrees&path=notebooks%2FMLTS_20240530_DTRF_Notebook3RandomForestNoisyDatasets_EN_1.0.ipynb&platform=windows&repository_id=671633172&repository_type=Repository&version=128#Random-Forest-+-Noisy-Dataset-Tutorial)"
   ]
  },
  {
   "attachments": {},
   "cell_type": "markdown",
   "id": "123b5b00-c142-44d0-93bf-8074c87fa86f",
   "metadata": {
    "jp-MarkdownHeadingCollapsed": true
   },
   "source": [
    "#### <b>Summary\n",
    "We discussed a process for modeling an example data set, which exhibits an upward trend and curvature, with the goal of capturing this pattern for generalization. It compares various model candidates, ranging from a simple Linear Model to complex Higher-Order Models (order-5 to order-8) and an extreme Interpolation Model, each with trade-offs like missing curvature or overfitting. The data is divided into 70% Training Data and 30% Testing Data to distinguish signal from error and assess how well models generalize. During training and evaluation, Training Error decreases with model complexity, with the Order-5 model achieving the lowest error, while Testing Error identifies the Quartic (Order-4) Polynomial as the best performer, as higher-order models overfit and the interpolation model fails. We posited that the Quartic Model emerges as the winner based on this train-test approach. Notebook 2 will further explore the data splitting notion for model decision refinement.\n"
   ]
  },
  {
   "cell_type": "markdown",
   "id": "376668ca-4bc2-4873-a8ae-3d7d2a289c5b",
   "metadata": {
    "panel-layout": {
     "height": 44.0833,
     "visible": true,
     "width": 100
    }
   },
   "source": [
    "### Please proceed to Notebook 2"
   ]
  },
  {
   "cell_type": "markdown",
   "id": "dca052e6-f140-483b-b862-fe335a1b1765",
   "metadata": {
    "panel-layout": {
     "height": 10,
     "visible": true,
     "width": 100
    }
   },
   "source": []
  },
  {
   "cell_type": "code",
   "execution_count": null,
   "id": "4c4f99a1-028d-461e-8fae-c1faa1c0f0ec",
   "metadata": {},
   "outputs": [],
   "source": []
  }
 ],
 "metadata": {
  "kernelspec": {
   "display_name": "Python 3 (ipykernel)",
   "language": "python",
   "name": "python3"
  },
  "language_info": {
   "codemirror_mode": {
    "name": "ipython",
    "version": 3
   },
   "file_extension": ".py",
   "mimetype": "text/x-python",
   "name": "python",
   "nbconvert_exporter": "python",
   "pygments_lexer": "ipython3",
   "version": "3.12.7"
  },
  "panel-cell-order": [
   "345df1d6-b266-47c2-a03d-ab70a4975e65",
   "6ae6ac97-6dc9-44e9-98c1-1a8392cb1f87",
   "dcb540f3-9153-41ae-9e68-aa33ef84184c",
   "07f6a6d9-a86e-4174-b60b-e0b8cc1d5367",
   "13504cb7-f41b-43d5-a1d3-d5f0528d31b5",
   "e37f7a82-623c-4458-8310-599a6c969e4c",
   "f29641f5-cf54-4edb-8b04-40815ccaefa1",
   "97b890ce-a467-480b-8f44-af4169cf3500",
   "bdc01fa6-b50b-4633-8912-522562d1d656",
   "ccea4a93-0c9b-4ca4-8277-832d4a7de71d",
   "a271965a-3f15-4de8-9dc2-22480562d9d7",
   "be01c85d-8633-4c44-9578-ee4eeb2b40dd",
   "299d041e-961a-4b09-8725-c79b810f4f3f",
   "acf09385-104f-4777-9e43-05825dca66e1",
   "64c05309-3e58-4d93-86ed-98931ec14ac1",
   "e9679346-8396-42e7-aef5-52c20030905d",
   "177095c0-ec2a-4b00-9478-e81aaee7e577",
   "4d02205d-d05a-4f98-9066-9997892c0b1c",
   "6e97071a-3b72-484f-83bb-73c8d9a4305e",
   "a2fbf0fd-1b6a-49d7-b290-7e99557a168b",
   "888c909c-c5b5-42bc-8b98-482ac0d8a2e8",
   "2f2e7b44-b140-4c66-a0bc-f499535a4e8c",
   "60251bd2-25bd-4577-8654-774c54646746",
   "80781e66-269e-4069-b0e4-46b3b5556d85",
   "376668ca-4bc2-4873-a8ae-3d7d2a289c5b",
   "7d9c9bde-8d77-4581-98db-251e225d2409",
   "dca052e6-f140-483b-b862-fe335a1b1765",
   "39d9f639-ef49-453d-9e4e-8030357526c6",
   "32e7676f-7a92-4f4b-af1b-8e2aa868a035",
   "d8647da3-901b-4940-8029-c097fff92101",
   "d5082e2f-a812-4cad-a7ef-bdfa577ff0f0",
   "7e20f42f-31da-40bb-a4eb-3a612cb77c2f",
   "38b29571-5e98-47a6-a46d-97f1b435e64e"
  ]
 },
 "nbformat": 4,
 "nbformat_minor": 5
}
