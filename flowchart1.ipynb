{
 "cells": [
  {
   "cell_type": "code",
   "execution_count": 3,
   "id": "24e4d087-8010-44c1-bbc9-ceba861cb2e0",
   "metadata": {},
   "outputs": [
    {
     "data": {
      "text/plain": [
       "True"
      ]
     },
     "execution_count": 3,
     "metadata": {},
     "output_type": "execute_result"
    }
   ],
   "source": [
    "# https://mermaid.live\n",
    "# https://mermaid.js.org/syntax/flowchart.html#interaction\n",
    "\n",
    "import webbrowser\n",
    "from textwrap import dedent\n",
    "\t \n",
    "html_content = dedent('''\n",
    "\t<!DOCTYPE html>\n",
    "\t<html>\n",
    "     <style>\n",
    "     .mermaid svg {\n",
    "    display: block;\n",
    "    width: 100%;\n",
    "    height: 100%;\n",
    "    margin: 0%;\n",
    "    padding: 0;\n",
    "    }\n",
    "     </style>\n",
    "     <head>\n",
    "        <script src=\"https://d3js.org/d3.v6.min.js\"></script>\n",
    "        <script src=\"https://unpkg.com/mermaid@11.4.1/dist/mermaid.min.js\"></script>\n",
    "      </head>\n",
    "  <body>\n",
    "    <div class=\"mermaid\" style=\"max-height: 350px;max-width: 1500px;\">\n",
    "---\n",
    "title: Flow 2 - Splitting the data\n",
    "---\n",
    "    graph TD;\n",
    "    A[Data<br>'One big grab bag<br>Annual temperatures'] --> B[Task<br>'Split into Training and Testing Sets'];\n",
    "    B --> C[Goal of Splitting<br>'Test model generalization'];\n",
    "    C --> D[Types of Generalization];\n",
    "    D --> E[Interpolation<br>'Estimate within data range<br>e.g., missing middle years'];\n",
    "    E --> F('Random split<br>Sort years into bins<br>Training vs. Testing');\n",
    "    D --> G[Extrapolation<br>'Estimate beyond data range<br>e.g., future years or another town'];\n",
    "    G --> H('Time-based split<br>Train on past, test on future');\n",
    "    G --> I('Spatial split<br>Test on distant town');\n",
    "    C --> J[Key Principle<br>'Testing data must be independent']\n",
    "    J --> K('Avoid unfair advantage<br>e.g., future data tipping off trends');\n",
    "    J --> L('Domain knowledge needed<br>e.g., 1km vs. 100km town distance');\n",
    "    L --> M('Too close: Not independent<br>Shared patterns and quirks');\n",
    "    L --> N('Far enough: Independent<br>Better test of generalization');\n",
    "    C --> O[Practical Consideration<br>'Split must match model use'];\n",
    "    O --> P('Representative split<br>Accurate testing error<br>Good to go');\n",
    "    O --> Q('Unrepresentative split<br>Artificially low error<br>False security');\n",
    "    Q --> R('High consequence applications<br>Risk of unseen weaknesses');\n",
    "    S[Next Step<br>'Choosing model candidates<br>Hypothesis- and theory-driven modeling'] --> C;\n",
    "    </div>\n",
    "\n",
    "    <script type=\"module\">\n",
    "      window.addEventListener('load', function () {\n",
    "      var svgs = d3.selectAll(\".mermaid svg\");\n",
    "      svgs.each(function() {\n",
    "    var svg = d3.select(this);\n",
    "    svg.html(\"<g>\" + svg.html() + \"</g>\");\n",
    "    var inner = svg.select(\"g\");\n",
    "    var zoom = d3.zoom().on(\"zoom\", function(event) {\n",
    "      inner.attr(\"transform\", event.transform);\n",
    "    });\n",
    "    svg.call(zoom);\n",
    "  });\n",
    "});\n",
    " \n",
    "window.callback = function () {\n",
    "      alert('A callback was triggered');\n",
    "    };\n",
    "    const config = {\n",
    "      startOnLoad: true,\n",
    "      flowchart: { useMaxWidth: true, htmlLabels: true, curve: 'cardinal' },\n",
    "      securityLevel: 'loose',\n",
    "    };\n",
    "    mermaid.initialize(config);\n",
    "\n",
    "\n",
    "    </script>\n",
    "    \n",
    "  </body>\n",
    "</html>\n",
    "\t''')\n",
    "\t \n",
    "# Save to file and open in browser\n",
    "with open('mermaid_flowchart1.html', 'w') as f:\n",
    "\tf.write(html_content)\n",
    "\t \n",
    "webbrowser.open('mermaid_flowchart1.html')\n"
   ]
  },
  {
   "cell_type": "code",
   "execution_count": null,
   "id": "ac37495e-40e0-4b95-90b7-08afe210b6ac",
   "metadata": {},
   "outputs": [],
   "source": []
  }
 ],
 "metadata": {
  "kernelspec": {
   "display_name": "Python 3 (ipykernel)",
   "language": "python",
   "name": "python3"
  },
  "language_info": {
   "codemirror_mode": {
    "name": "ipython",
    "version": 3
   },
   "file_extension": ".py",
   "mimetype": "text/x-python",
   "name": "python",
   "nbconvert_exporter": "python",
   "pygments_lexer": "ipython3",
   "version": "3.10.14"
  }
 },
 "nbformat": 4,
 "nbformat_minor": 5
}
